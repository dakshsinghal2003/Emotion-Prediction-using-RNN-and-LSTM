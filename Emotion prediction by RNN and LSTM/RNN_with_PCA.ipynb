{
 "cells": [
  {
   "cell_type": "code",
   "execution_count": 3,
   "metadata": {},
   "outputs": [],
   "source": [
    "import numpy as np\n",
    "import pandas as pd\n",
    "import matplotlib.pyplot as plt\n",
    "import seaborn as sns\n",
    "from sklearn.model_selection import train_test_split\n",
    "from sklearn.metrics import confusion_matrix, classification_report,accuracy_score,ConfusionMatrixDisplay\n",
    "from sklearn.decomposition import PCA \n",
    "import seaborn as sb\n",
    "from sklearn.preprocessing import StandardScaler,LabelEncoder\n",
    "from tensorflow.keras.models import Sequential,load_model\n",
    "from tensorflow.keras.layers import  Dense,LSTM,SimpleRNN\n",
    "import os\n",
    "import keras_tuner\n",
    "import warnings\n",
    "warnings.filterwarnings(\"ignore\")\n",
    "\n"
   ]
  },
  {
   "cell_type": "code",
   "execution_count": null,
   "metadata": {},
   "outputs": [],
   "source": [
    "df = pd.read_csv(\"emotions.csv\")\n",
    "\n",
    "x = df.loc[:,\"fft_0_b\":\"label\"]\n",
    "y = df['label']\n",
    "x.drop(columns='label',inplace=True,axis=1)\n",
    "n_optimal = 45\n",
    "model = PCA(n_components=45)\n",
    "transformed_data =PCA.fit_transform(model,X=x)\n",
    "scale = StandardScaler() \n",
    "x = scale.fit_transform(transformed_data)\n",
    "\n",
    "encode = LabelEncoder()\n",
    "y_ = encode.fit_transform(y)\n",
    "x_train,x_test,y_train,y_test = train_test_split(x,y_,train_size=0.8,random_state=42)\n"
   ]
  },
  {
   "cell_type": "code",
   "execution_count": 92,
   "metadata": {},
   "outputs": [
    {
     "name": "stdout",
     "output_type": "stream",
     "text": [
      "Trial 48 Complete [00h 00m 01s]\n",
      "\n",
      "Best multi_objective So Far: -0.9344262480735779\n",
      "Total elapsed time: 00h 09m 19s\n",
      "INFO:tensorflow:Oracle triggered exit\n"
     ]
    }
   ],
   "source": [
    "activation  = ['relu','tanh']\n",
    "loss_functions = [\n",
    "    'binary_crossentropy',\n",
    "    'sparse_categorical_crossentropy',\n",
    "    'categorical_crossentropy',\n",
    "    'kullback_leibler_divergence',\n",
    "    'hinge',\n",
    "    'weighted_categorical_crossentropy',\n",
    "    'focal_loss',\n",
    "    'squared_hinge'\n",
    "]\n",
    "\n",
    "Optimizer = [\n",
    "            'adam',\n",
    "            'sgd',\n",
    "            'rmsprop',\n",
    "            'adadelta']\n",
    "def unit_set(hp):\n",
    "    model = Sequential()\n",
    "    \n",
    "    model.add(SimpleRNN(units= 45,\n",
    "                        activation=hp.Choice('activation_1',activation),\n",
    "                        return_sequences=True,\n",
    "                        input_shape=(45, 1)))\n",
    "    \n",
    "    model.add(SimpleRNN(units=30,\n",
    "                        activation=hp.Choice('activation_2,',activation)))\n",
    "    \n",
    "    model.add(Dense(3,\n",
    "                    activation='softmax')) \n",
    "    \n",
    "    model.compile(optimizer =hp.Choice('optimize',Optimizer),\n",
    "                  loss = hp.Choice('loss',Loss),\n",
    "                  metrics=['accuracy'])\n",
    "    return model\n",
    "\n",
    "tune = keras_tuner.GridSearch(hypermodel=unit_set,\n",
    "                              objective=['val_accuracy'],\n",
    "                              overwrite=True,\n",
    "                              directory='RRN_HyperParameter_Data_With_PCA',\n",
    "                              project_name = 'LossAndOptimizer')\n",
    "tune.search(x_train,y_train,epochs=15,validation_data = (x_test,y_test))\n"
   ]
  },
  {
   "cell_type": "code",
   "execution_count": 94,
   "metadata": {},
   "outputs": [
    {
     "name": "stdout",
     "output_type": "stream",
     "text": [
      "dict_keys(['activation_1', 'activation_2,', 'optimize', 'loss'])\n"
     ]
    }
   ],
   "source": [
    "hyp_param = tune.get_best_hyperparameters(num_trials=1)[0].values\n",
    "print(hyp_param.keys())"
   ]
  },
  {
   "cell_type": "code",
   "execution_count": 96,
   "metadata": {},
   "outputs": [
    {
     "name": "stdout",
     "output_type": "stream",
     "text": [
      "Trial 15 Complete [00h 00m 40s]\n",
      "multi_objective: -0.9391100406646729\n",
      "\n",
      "Best multi_objective So Far: -0.9391100406646729\n",
      "Total elapsed time: 00h 10m 10s\n",
      "INFO:tensorflow:Oracle triggered exit\n"
     ]
    }
   ],
   "source": [
    "def unit_set(hp):\n",
    "    model = Sequential()\n",
    "    unit1 = hp.Int('unit1',min_value = 45, max_value = 65, step = 10)\n",
    "    unit2 = hp.Int('unit2',min_value = 10, max_value = 50, step = 10)\n",
    "    model.add(SimpleRNN(units= unit1,\n",
    "                        activation=hyp_param['activation_1'],\n",
    "                        return_sequences=True,\n",
    "                        input_shape=(45, 1)))\n",
    "    \n",
    "    model.add(SimpleRNN(units=unit2,\n",
    "                        activation=hyp_param['activation_2,']))\n",
    "    \n",
    "    model.add(Dense(3,\n",
    "                    activation='softmax')) \n",
    "    \n",
    "    model.compile(optimizer =hyp_param['optimize'],\n",
    "                  loss = hyp_param['loss'],\n",
    "                  metrics=['accuracy'])\n",
    "    return model\n",
    "\n",
    "tune = keras_tuner.GridSearch(hypermodel=unit_set,\n",
    "                              objective=['val_accuracy'],\n",
    "                              overwrite=True,\n",
    "                              directory='RRN_HyperParameter_Data_With_PCA',\n",
    "                              project_name = 'Units')\n",
    "\n",
    "if not os.path.exists(\"RRN_HyperParameter_Data_With_PCA/Uints\"):\n",
    "    tune.search(x_train,y_train,epochs=15,validation_data = (x_test,y_test))\n"
   ]
  },
  {
   "cell_type": "code",
   "execution_count": 109,
   "metadata": {},
   "outputs": [
    {
     "name": "stdout",
     "output_type": "stream",
     "text": [
      "Epoch 1/15\n",
      "43/43 [==============================] - 2s 13ms/step - loss: 0.0696 - accuracy: 0.9812\n",
      "Epoch 2/15\n",
      "43/43 [==============================] - 1s 13ms/step - loss: 0.0491 - accuracy: 0.9859\n",
      "Epoch 3/15\n",
      "43/43 [==============================] - 1s 12ms/step - loss: 0.0528 - accuracy: 0.9830\n",
      "Epoch 4/15\n",
      "43/43 [==============================] - 1s 12ms/step - loss: 0.0493 - accuracy: 0.9853\n",
      "Epoch 5/15\n",
      "43/43 [==============================] - 1s 12ms/step - loss: 0.0537 - accuracy: 0.9842\n",
      "Epoch 6/15\n",
      "43/43 [==============================] - 1s 13ms/step - loss: 0.0390 - accuracy: 0.9894\n",
      "Epoch 7/15\n",
      "43/43 [==============================] - 1s 13ms/step - loss: 0.0283 - accuracy: 0.9924\n",
      "Epoch 8/15\n",
      "43/43 [==============================] - 1s 12ms/step - loss: 0.0294 - accuracy: 0.9941\n",
      "Epoch 9/15\n",
      "43/43 [==============================] - 0s 12ms/step - loss: 0.0178 - accuracy: 0.9959\n",
      "Epoch 10/15\n",
      "43/43 [==============================] - 0s 11ms/step - loss: 0.0104 - accuracy: 0.9988\n",
      "Epoch 11/15\n",
      "43/43 [==============================] - 1s 12ms/step - loss: 0.0071 - accuracy: 0.9994\n",
      "Epoch 12/15\n",
      "43/43 [==============================] - 1s 13ms/step - loss: 0.0544 - accuracy: 0.9830\n",
      "Epoch 13/15\n",
      "43/43 [==============================] - 1s 12ms/step - loss: 0.0547 - accuracy: 0.9801\n",
      "Epoch 14/15\n",
      "43/43 [==============================] - 1s 12ms/step - loss: 0.0308 - accuracy: 0.9924\n",
      "Epoch 15/15\n",
      "43/43 [==============================] - 0s 11ms/step - loss: 0.0312 - accuracy: 0.9906\n"
     ]
    }
   ],
   "source": [
    "model = tune.get_best_models(num_models=1)[0]\n",
    "history = model.fit(x_train,y_train,epochs=15,batch_size=40)\n",
    "model.save(\"RNN_with_pca.h5\")\n"
   ]
  }
 ],
 "metadata": {
  "kernelspec": {
   "display_name": "Python 3",
   "language": "python",
   "name": "python3"
  },
  "language_info": {
   "codemirror_mode": {
    "name": "ipython",
    "version": 3
   },
   "file_extension": ".py",
   "mimetype": "text/x-python",
   "name": "python",
   "nbconvert_exporter": "python",
   "pygments_lexer": "ipython3",
   "version": "3.10.7"
  }
 },
 "nbformat": 4,
 "nbformat_minor": 2
}
