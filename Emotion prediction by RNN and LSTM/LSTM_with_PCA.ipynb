{
 "cells": [
  {
   "cell_type": "code",
   "execution_count": 3,
   "metadata": {},
   "outputs": [],
   "source": [
    "import numpy as np\n",
    "import pandas as pd\n",
    "import matplotlib.pyplot as plt\n",
    "import seaborn as sns\n",
    "from sklearn.model_selection import train_test_split\n",
    "from sklearn.metrics import confusion_matrix, classification_report,accuracy_score,ConfusionMatrixDisplay\n",
    "from sklearn.decomposition import PCA \n",
    "import seaborn as sb\n",
    "from sklearn.preprocessing import StandardScaler,LabelEncoder\n",
    "from tensorflow.keras.models import Sequential\n",
    "from tensorflow.keras.layers import  Dense,LSTM,SimpleRNN\n",
    "import keras_tuner\n",
    "\n",
    "df = pd.read_csv(\"emotions.csv\")\n",
    "\n",
    "x = df.loc[:,\"fft_0_b\":\"label\"]\n",
    "y = df['label']\n",
    "x.drop(columns='label',inplace=True,axis=1)\n",
    "n_optimal = 45\n",
    "model = PCA(n_components=45)\n",
    "transformed_data =PCA.fit_transform(model,X=x)\n",
    "scale = StandardScaler() \n",
    "x = scale.fit_transform(transformed_data)\n",
    "\n",
    "encode = LabelEncoder()\n",
    "y_ = encode.fit_transform(y)\n",
    "x_train,x_test,y_train,y_test = train_test_split(x,y_,train_size=0.8,random_state=42)\n"
   ]
  },
  {
   "cell_type": "code",
   "execution_count": 4,
   "metadata": {},
   "outputs": [
    {
     "name": "stdout",
     "output_type": "stream",
     "text": [
      "Trial 48 Complete [00h 00m 01s]\n",
      "\n",
      "Best val_accuracy So Far: 0.868852436542511\n",
      "Total elapsed time: 01h 07m 15s\n",
      "INFO:tensorflow:Oracle triggered exit\n"
     ]
    }
   ],
   "source": [
    "activation  = ['relu',\n",
    "               'tanh']\n",
    "Loss =        ['binary_crossentropy',\n",
    "               'sparse_categorical_crossentropy',\n",
    "               'categorical_crossentropy',\n",
    "               ]\n",
    "Optimizer =   ['adam',\n",
    "               'sgd',\n",
    "               'rmsprop',\n",
    "               'adadelta']\n",
    "\n",
    "def build_model(hp):\n",
    "  model = Sequential()\n",
    "\n",
    "  model.add(LSTM(units = 45,\n",
    "                 activation=hp.Choice('activation_1',activation),\n",
    "                 return_sequences=True,\n",
    "                 input_shape=(45, 1)))\n",
    "  model.add(LSTM(units = 30,\n",
    "                      activation=hp.Choice('activation_2',activation))) \n",
    "  model.add(Dense(3, \n",
    "                      activation='softmax')) \n",
    "  optimize = hp.Choice('optimizer',\n",
    "                       values = Optimizer)\n",
    "  loss     = hp.Choice('loss',\n",
    "                       values = Loss)\n",
    "  \n",
    "  model.compile(optimizer=optimize,\n",
    "                loss= loss,\n",
    "                metrics = ['accuracy']\n",
    "                )\n",
    "  return model\n",
    "\n",
    "tune = keras_tuner.GridSearch(hypermodel=build_model,\n",
    "                              objective='val_accuracy',\n",
    "                              overwrite=True,\n",
    "                              directory='LSTM_HyperParameter_Data_With_PCA',\n",
    "                              project_name='OptimizerAndLoss')\n",
    "tune.search(x_train,y_train,epochs=15,validation_data = (x_test,y_test))"
   ]
  },
  {
   "cell_type": "code",
   "execution_count": 9,
   "metadata": {},
   "outputs": [
    {
     "name": "stdout",
     "output_type": "stream",
     "text": [
      "{'unit1': 65, 'unit2': 65}\n"
     ]
    }
   ],
   "source": [
    "hyp_param = tune.get_best_hyperparameters(num_trials=1)[0].values\n",
    "print(hyp_param)"
   ]
  },
  {
   "cell_type": "code",
   "execution_count": 6,
   "metadata": {},
   "outputs": [
    {
     "name": "stdout",
     "output_type": "stream",
     "text": [
      "Trial 15 Complete [00h 02m 00s]\n",
      "val_accuracy: 0.8548009395599365\n",
      "\n",
      "Best val_accuracy So Far: 0.8735362887382507\n",
      "Total elapsed time: 00h 12m 00s\n",
      "INFO:tensorflow:Oracle triggered exit\n"
     ]
    }
   ],
   "source": [
    "def build_model(hp):\n",
    "  model = Sequential()\n",
    "  unit1 = hp.Int('unit1',min_value = 45, max_value = 65, step = 10)\n",
    "  unit2 = hp.Int('unit2',min_value = 45, max_value = 90, step = 10)\n",
    "  model.add(LSTM(units = unit1,\n",
    "                 activation=hyp_param['activation_1'],\n",
    "                 return_sequences=True,\n",
    "                 input_shape=(45, 1)))\n",
    "  model.add(LSTM(units = unit2,\n",
    "                      activation=hyp_param['activation_2'])) \n",
    "  model.add(Dense(3, \n",
    "                      activation='softmax')) \n",
    "  optimize = hyp_param['optimizer']\n",
    "  loss     = hyp_param['loss']\n",
    "  \n",
    "  model.compile(optimizer=optimize,\n",
    "                loss= loss,\n",
    "                metrics = ['accuracy']\n",
    "                )\n",
    "  return model\n",
    "\n",
    "tune = keras_tuner.GridSearch(hypermodel=build_model,\n",
    "                              objective='val_accuracy',\n",
    "                              overwrite=True,\n",
    "                              directory='LSTM_HyperParameter_Data_With_PCA',\n",
    "                              project_name='Units')\n",
    "tune.search(x_train,y_train,epochs=10,validation_data = (x_test,y_test))"
   ]
  },
  {
   "cell_type": "code",
   "execution_count": null,
   "metadata": {},
   "outputs": [],
   "source": [
    "model = tune.get_best_models(num_models=1)[0]\n",
    "history = model.fit(x_train,y_train,epochs=15,batch_size=10)\n",
    "model.save(\"LSTM_with_pca.h5\")\n"
   ]
  }
 ],
 "metadata": {
  "kernelspec": {
   "display_name": "Python 3",
   "language": "python",
   "name": "python3"
  },
  "language_info": {
   "codemirror_mode": {
    "name": "ipython",
    "version": 3
   },
   "file_extension": ".py",
   "mimetype": "text/x-python",
   "name": "python",
   "nbconvert_exporter": "python",
   "pygments_lexer": "ipython3",
   "version": "3.10.7"
  }
 },
 "nbformat": 4,
 "nbformat_minor": 2
}
